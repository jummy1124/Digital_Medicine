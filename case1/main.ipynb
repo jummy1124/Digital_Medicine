{
 "cells": [
  {
   "cell_type": "code",
   "execution_count": 1,
   "metadata": {
    "id": "57735ef1"
   },
   "outputs": [],
   "source": [
    "import os\n",
    "import re\n",
    "import pandas as pd\n",
    "import numpy as np\n",
    "\n",
    "from sklearn.ensemble import RandomForestClassifier\n",
    "from sklearn.model_selection import GridSearchCV\n",
    "\n",
    "from sklearn.metrics import classification_report, roc_auc_score, f1_score\n",
    "from sklearn.model_selection import train_test_split"
   ]
  },
  {
   "cell_type": "code",
   "execution_count": 2,
   "metadata": {},
   "outputs": [],
   "source": [
    "#Setting your path\n",
    "\n",
    "key_word_path='./key_word.txt'\n",
    "train_path='./Data/Train_Textual/'   \n",
    "valid_path='./Data/Validation/'   "
   ]
  },
  {
   "cell_type": "code",
   "execution_count": 3,
   "metadata": {
    "id": "34cfaf1d"
   },
   "outputs": [],
   "source": [
    "key_word=[]\n",
    "with open(key_word_path,'r') as f:\n",
    "    for j in f:\n",
    "        key_word.append(j.replace('\\n',''))"
   ]
  },
  {
   "cell_type": "code",
   "execution_count": 4,
   "metadata": {
    "id": "48b5668a"
   },
   "outputs": [],
   "source": [
    "#Define columns name \n",
    "columns_name=[]\n",
    "for i in key_word:\n",
    "    columns_name.append(i)"
   ]
  },
  {
   "cell_type": "markdown",
   "metadata": {},
   "source": [
    "<h3>Ceate new data</h3>"
   ]
  },
  {
   "cell_type": "code",
   "execution_count": 5,
   "metadata": {
    "id": "fa36443c"
   },
   "outputs": [],
   "source": [
    "#Train set\n",
    "new_data=np.zeros(shape=(400,len(key_word)),dtype=int)\n",
    "train_df=pd.DataFrame(data=new_data,columns=columns_name)\n",
    "label=[]\n",
    "cnt=0\n",
    "\n",
    "for i in os.listdir(train_path):\n",
    "    with open(train_path+str(i),'r') as f:\n",
    "        for j in f:\n",
    "            h=j.lower().replace('\\n','').split(' ')\n",
    "            for s in h:\n",
    "                s=re.sub(r'[^\\w\\s]','',s)\n",
    "                if s in key_word:\n",
    "                    train_df.iloc[cnt,key_word.index(s)]=1\n",
    "    if cnt<200:\n",
    "        label.append(0)\n",
    "    else:\n",
    "        label.append(1)\n",
    "    f.close()\n",
    "    cnt+=1\n",
    "train_df['label']=label"
   ]
  },
  {
   "cell_type": "code",
   "execution_count": 6,
   "metadata": {
    "colab": {
     "base_uri": "https://localhost:8080/"
    },
    "executionInfo": {
     "elapsed": 22662,
     "status": "ok",
     "timestamp": 1634270549870,
     "user": {
      "displayName": "雍冠軒校友",
      "photoUrl": "https://lh3.googleusercontent.com/a-/AOh14Gg3oPXigq7hTgowTvL89alWdLe7GPGqH9dab29UJg=s64",
      "userId": "10414523399875693720"
     },
     "user_tz": -480
    },
    "id": "8d85b548",
    "outputId": "58f4133e-6531-4535-b06c-7303f5a73418"
   },
   "outputs": [
    {
     "name": "stdout",
     "output_type": "stream",
     "text": [
      "Train set shape :  (400, 84) , Validation set shape :  (50, 83)\n"
     ]
    }
   ],
   "source": [
    "#Validation set\n",
    "new_data=np.zeros(shape=(50,len(key_word)),dtype=int)\n",
    "valid_df=pd.DataFrame(data=new_data,columns=columns_name)\n",
    "label=[]\n",
    "cnt=0\n",
    "\n",
    "for i in os.listdir(valid_path):\n",
    "    with open(valid_path+str(i),'r') as f:\n",
    "        for j in f:\n",
    "            h=j.lower().replace('\\n','').split(' ')\n",
    "            for s in h:\n",
    "                s=re.sub(r'[^\\w\\s]','',s)\n",
    "                if s in key_word:\n",
    "                    valid_df.iloc[cnt,key_word.index(s)]=1\n",
    "    cnt+=1\n",
    "\n",
    "print(\"Train set shape : \",train_df.shape,\", Validation set shape : \",valid_df.shape)"
   ]
  },
  {
   "cell_type": "markdown",
   "metadata": {},
   "source": [
    "<h3>Split data for training and testing</h3>"
   ]
  },
  {
   "cell_type": "code",
   "execution_count": 7,
   "metadata": {
    "id": "ExjEAFbzu9RM"
   },
   "outputs": [],
   "source": [
    "X = train_df.drop(columns='label')\n",
    "y = train_df['label']\n",
    "X_train, X_test, y_train, y_test = train_test_split(X, y, test_size=0.2, random_state=1)"
   ]
  },
  {
   "cell_type": "markdown",
   "metadata": {},
   "source": [
    "<h3>Start training </h3>\n",
    "<h4>Use GridSearch method to tune model <h4>"
   ]
  },
  {
   "cell_type": "code",
   "execution_count": 8,
   "metadata": {
    "colab": {
     "base_uri": "https://localhost:8080/"
    },
    "executionInfo": {
     "elapsed": 195174,
     "status": "ok",
     "timestamp": 1634278399194,
     "user": {
      "displayName": "雍冠軒校友",
      "photoUrl": "https://lh3.googleusercontent.com/a-/AOh14Gg3oPXigq7hTgowTvL89alWdLe7GPGqH9dab29UJg=s64",
      "userId": "10414523399875693720"
     },
     "user_tz": -480
    },
    "id": "7R4RfSTXRSqx",
    "outputId": "9241fa96-be0e-47b9-a789-9d917e5125bc"
   },
   "outputs": [
    {
     "name": "stdout",
     "output_type": "stream",
     "text": [
      "Best parameters set found on development set:\n",
      "\n",
      "{'criterion': 'entropy', 'max_depth': 25, 'max_features': 'log2', 'n_estimators': 10}\n",
      "\n",
      "Grid scores on development set:\n",
      "\n",
      "Accuracy = 0.353 for {'criterion': 'gini', 'max_depth': 20, 'max_features': 'auto', 'n_estimators': 10}\n",
      "Accuracy = 0.356 for {'criterion': 'gini', 'max_depth': 20, 'max_features': 'auto', 'n_estimators': 100}\n",
      "Accuracy = 0.352 for {'criterion': 'gini', 'max_depth': 20, 'max_features': 'auto', 'n_estimators': 200}\n",
      "Accuracy = 0.350 for {'criterion': 'gini', 'max_depth': 20, 'max_features': 'auto', 'n_estimators': 500}\n",
      "Accuracy = 0.353 for {'criterion': 'gini', 'max_depth': 20, 'max_features': 'sqrt', 'n_estimators': 10}\n",
      "Accuracy = 0.356 for {'criterion': 'gini', 'max_depth': 20, 'max_features': 'sqrt', 'n_estimators': 100}\n",
      "Accuracy = 0.352 for {'criterion': 'gini', 'max_depth': 20, 'max_features': 'sqrt', 'n_estimators': 200}\n",
      "Accuracy = 0.350 for {'criterion': 'gini', 'max_depth': 20, 'max_features': 'sqrt', 'n_estimators': 500}\n",
      "Accuracy = 0.322 for {'criterion': 'gini', 'max_depth': 20, 'max_features': 'log2', 'n_estimators': 10}\n",
      "Accuracy = 0.355 for {'criterion': 'gini', 'max_depth': 20, 'max_features': 'log2', 'n_estimators': 100}\n",
      "Accuracy = 0.341 for {'criterion': 'gini', 'max_depth': 20, 'max_features': 'log2', 'n_estimators': 200}\n",
      "Accuracy = 0.340 for {'criterion': 'gini', 'max_depth': 20, 'max_features': 'log2', 'n_estimators': 500}\n",
      "Accuracy = 0.361 for {'criterion': 'gini', 'max_depth': 25, 'max_features': 'auto', 'n_estimators': 10}\n",
      "Accuracy = 0.367 for {'criterion': 'gini', 'max_depth': 25, 'max_features': 'auto', 'n_estimators': 100}\n",
      "Accuracy = 0.356 for {'criterion': 'gini', 'max_depth': 25, 'max_features': 'auto', 'n_estimators': 200}\n",
      "Accuracy = 0.367 for {'criterion': 'gini', 'max_depth': 25, 'max_features': 'auto', 'n_estimators': 500}\n",
      "Accuracy = 0.361 for {'criterion': 'gini', 'max_depth': 25, 'max_features': 'sqrt', 'n_estimators': 10}\n",
      "Accuracy = 0.367 for {'criterion': 'gini', 'max_depth': 25, 'max_features': 'sqrt', 'n_estimators': 100}\n",
      "Accuracy = 0.356 for {'criterion': 'gini', 'max_depth': 25, 'max_features': 'sqrt', 'n_estimators': 200}\n",
      "Accuracy = 0.367 for {'criterion': 'gini', 'max_depth': 25, 'max_features': 'sqrt', 'n_estimators': 500}\n",
      "Accuracy = 0.357 for {'criterion': 'gini', 'max_depth': 25, 'max_features': 'log2', 'n_estimators': 10}\n",
      "Accuracy = 0.371 for {'criterion': 'gini', 'max_depth': 25, 'max_features': 'log2', 'n_estimators': 100}\n",
      "Accuracy = 0.354 for {'criterion': 'gini', 'max_depth': 25, 'max_features': 'log2', 'n_estimators': 200}\n",
      "Accuracy = 0.348 for {'criterion': 'gini', 'max_depth': 25, 'max_features': 'log2', 'n_estimators': 500}\n",
      "Accuracy = 0.383 for {'criterion': 'gini', 'max_depth': 30, 'max_features': 'auto', 'n_estimators': 10}\n",
      "Accuracy = 0.373 for {'criterion': 'gini', 'max_depth': 30, 'max_features': 'auto', 'n_estimators': 100}\n",
      "Accuracy = 0.381 for {'criterion': 'gini', 'max_depth': 30, 'max_features': 'auto', 'n_estimators': 200}\n",
      "Accuracy = 0.367 for {'criterion': 'gini', 'max_depth': 30, 'max_features': 'auto', 'n_estimators': 500}\n",
      "Accuracy = 0.383 for {'criterion': 'gini', 'max_depth': 30, 'max_features': 'sqrt', 'n_estimators': 10}\n",
      "Accuracy = 0.373 for {'criterion': 'gini', 'max_depth': 30, 'max_features': 'sqrt', 'n_estimators': 100}\n",
      "Accuracy = 0.381 for {'criterion': 'gini', 'max_depth': 30, 'max_features': 'sqrt', 'n_estimators': 200}\n",
      "Accuracy = 0.367 for {'criterion': 'gini', 'max_depth': 30, 'max_features': 'sqrt', 'n_estimators': 500}\n",
      "Accuracy = 0.368 for {'criterion': 'gini', 'max_depth': 30, 'max_features': 'log2', 'n_estimators': 10}\n",
      "Accuracy = 0.353 for {'criterion': 'gini', 'max_depth': 30, 'max_features': 'log2', 'n_estimators': 100}\n",
      "Accuracy = 0.358 for {'criterion': 'gini', 'max_depth': 30, 'max_features': 'log2', 'n_estimators': 200}\n",
      "Accuracy = 0.358 for {'criterion': 'gini', 'max_depth': 30, 'max_features': 'log2', 'n_estimators': 500}\n",
      "Accuracy = 0.379 for {'criterion': 'gini', 'max_depth': 40, 'max_features': 'auto', 'n_estimators': 10}\n",
      "Accuracy = 0.385 for {'criterion': 'gini', 'max_depth': 40, 'max_features': 'auto', 'n_estimators': 100}\n",
      "Accuracy = 0.372 for {'criterion': 'gini', 'max_depth': 40, 'max_features': 'auto', 'n_estimators': 200}\n",
      "Accuracy = 0.370 for {'criterion': 'gini', 'max_depth': 40, 'max_features': 'auto', 'n_estimators': 500}\n",
      "Accuracy = 0.379 for {'criterion': 'gini', 'max_depth': 40, 'max_features': 'sqrt', 'n_estimators': 10}\n",
      "Accuracy = 0.385 for {'criterion': 'gini', 'max_depth': 40, 'max_features': 'sqrt', 'n_estimators': 100}\n",
      "Accuracy = 0.372 for {'criterion': 'gini', 'max_depth': 40, 'max_features': 'sqrt', 'n_estimators': 200}\n",
      "Accuracy = 0.370 for {'criterion': 'gini', 'max_depth': 40, 'max_features': 'sqrt', 'n_estimators': 500}\n",
      "Accuracy = 0.378 for {'criterion': 'gini', 'max_depth': 40, 'max_features': 'log2', 'n_estimators': 10}\n",
      "Accuracy = 0.352 for {'criterion': 'gini', 'max_depth': 40, 'max_features': 'log2', 'n_estimators': 100}\n",
      "Accuracy = 0.357 for {'criterion': 'gini', 'max_depth': 40, 'max_features': 'log2', 'n_estimators': 200}\n",
      "Accuracy = 0.345 for {'criterion': 'gini', 'max_depth': 40, 'max_features': 'log2', 'n_estimators': 500}\n",
      "Accuracy = 0.384 for {'criterion': 'gini', 'max_depth': 50, 'max_features': 'auto', 'n_estimators': 10}\n",
      "Accuracy = 0.376 for {'criterion': 'gini', 'max_depth': 50, 'max_features': 'auto', 'n_estimators': 100}\n",
      "Accuracy = 0.383 for {'criterion': 'gini', 'max_depth': 50, 'max_features': 'auto', 'n_estimators': 200}\n",
      "Accuracy = 0.376 for {'criterion': 'gini', 'max_depth': 50, 'max_features': 'auto', 'n_estimators': 500}\n",
      "Accuracy = 0.384 for {'criterion': 'gini', 'max_depth': 50, 'max_features': 'sqrt', 'n_estimators': 10}\n",
      "Accuracy = 0.376 for {'criterion': 'gini', 'max_depth': 50, 'max_features': 'sqrt', 'n_estimators': 100}\n",
      "Accuracy = 0.383 for {'criterion': 'gini', 'max_depth': 50, 'max_features': 'sqrt', 'n_estimators': 200}\n",
      "Accuracy = 0.376 for {'criterion': 'gini', 'max_depth': 50, 'max_features': 'sqrt', 'n_estimators': 500}\n",
      "Accuracy = 0.375 for {'criterion': 'gini', 'max_depth': 50, 'max_features': 'log2', 'n_estimators': 10}\n",
      "Accuracy = 0.374 for {'criterion': 'gini', 'max_depth': 50, 'max_features': 'log2', 'n_estimators': 100}\n",
      "Accuracy = 0.363 for {'criterion': 'gini', 'max_depth': 50, 'max_features': 'log2', 'n_estimators': 200}\n",
      "Accuracy = 0.365 for {'criterion': 'gini', 'max_depth': 50, 'max_features': 'log2', 'n_estimators': 500}\n",
      "Accuracy = 0.375 for {'criterion': 'entropy', 'max_depth': 20, 'max_features': 'auto', 'n_estimators': 10}\n",
      "Accuracy = 0.343 for {'criterion': 'entropy', 'max_depth': 20, 'max_features': 'auto', 'n_estimators': 100}\n",
      "Accuracy = 0.344 for {'criterion': 'entropy', 'max_depth': 20, 'max_features': 'auto', 'n_estimators': 200}\n",
      "Accuracy = 0.342 for {'criterion': 'entropy', 'max_depth': 20, 'max_features': 'auto', 'n_estimators': 500}\n",
      "Accuracy = 0.375 for {'criterion': 'entropy', 'max_depth': 20, 'max_features': 'sqrt', 'n_estimators': 10}\n",
      "Accuracy = 0.343 for {'criterion': 'entropy', 'max_depth': 20, 'max_features': 'sqrt', 'n_estimators': 100}\n",
      "Accuracy = 0.344 for {'criterion': 'entropy', 'max_depth': 20, 'max_features': 'sqrt', 'n_estimators': 200}\n",
      "Accuracy = 0.342 for {'criterion': 'entropy', 'max_depth': 20, 'max_features': 'sqrt', 'n_estimators': 500}\n",
      "Accuracy = 0.372 for {'criterion': 'entropy', 'max_depth': 20, 'max_features': 'log2', 'n_estimators': 10}\n",
      "Accuracy = 0.360 for {'criterion': 'entropy', 'max_depth': 20, 'max_features': 'log2', 'n_estimators': 100}\n",
      "Accuracy = 0.340 for {'criterion': 'entropy', 'max_depth': 20, 'max_features': 'log2', 'n_estimators': 200}\n",
      "Accuracy = 0.336 for {'criterion': 'entropy', 'max_depth': 20, 'max_features': 'log2', 'n_estimators': 500}\n",
      "Accuracy = 0.386 for {'criterion': 'entropy', 'max_depth': 25, 'max_features': 'auto', 'n_estimators': 10}\n",
      "Accuracy = 0.342 for {'criterion': 'entropy', 'max_depth': 25, 'max_features': 'auto', 'n_estimators': 100}\n",
      "Accuracy = 0.344 for {'criterion': 'entropy', 'max_depth': 25, 'max_features': 'auto', 'n_estimators': 200}\n",
      "Accuracy = 0.351 for {'criterion': 'entropy', 'max_depth': 25, 'max_features': 'auto', 'n_estimators': 500}\n",
      "Accuracy = 0.386 for {'criterion': 'entropy', 'max_depth': 25, 'max_features': 'sqrt', 'n_estimators': 10}\n",
      "Accuracy = 0.342 for {'criterion': 'entropy', 'max_depth': 25, 'max_features': 'sqrt', 'n_estimators': 100}\n",
      "Accuracy = 0.344 for {'criterion': 'entropy', 'max_depth': 25, 'max_features': 'sqrt', 'n_estimators': 200}\n",
      "Accuracy = 0.351 for {'criterion': 'entropy', 'max_depth': 25, 'max_features': 'sqrt', 'n_estimators': 500}\n",
      "Accuracy = 0.401 for {'criterion': 'entropy', 'max_depth': 25, 'max_features': 'log2', 'n_estimators': 10}\n",
      "Accuracy = 0.355 for {'criterion': 'entropy', 'max_depth': 25, 'max_features': 'log2', 'n_estimators': 100}\n",
      "Accuracy = 0.348 for {'criterion': 'entropy', 'max_depth': 25, 'max_features': 'log2', 'n_estimators': 200}\n",
      "Accuracy = 0.327 for {'criterion': 'entropy', 'max_depth': 25, 'max_features': 'log2', 'n_estimators': 500}\n",
      "Accuracy = 0.386 for {'criterion': 'entropy', 'max_depth': 30, 'max_features': 'auto', 'n_estimators': 10}\n",
      "Accuracy = 0.346 for {'criterion': 'entropy', 'max_depth': 30, 'max_features': 'auto', 'n_estimators': 100}\n",
      "Accuracy = 0.345 for {'criterion': 'entropy', 'max_depth': 30, 'max_features': 'auto', 'n_estimators': 200}\n",
      "Accuracy = 0.359 for {'criterion': 'entropy', 'max_depth': 30, 'max_features': 'auto', 'n_estimators': 500}\n",
      "Accuracy = 0.386 for {'criterion': 'entropy', 'max_depth': 30, 'max_features': 'sqrt', 'n_estimators': 10}\n",
      "Accuracy = 0.346 for {'criterion': 'entropy', 'max_depth': 30, 'max_features': 'sqrt', 'n_estimators': 100}\n",
      "Accuracy = 0.345 for {'criterion': 'entropy', 'max_depth': 30, 'max_features': 'sqrt', 'n_estimators': 200}\n",
      "Accuracy = 0.359 for {'criterion': 'entropy', 'max_depth': 30, 'max_features': 'sqrt', 'n_estimators': 500}\n",
      "Accuracy = 0.387 for {'criterion': 'entropy', 'max_depth': 30, 'max_features': 'log2', 'n_estimators': 10}\n",
      "Accuracy = 0.361 for {'criterion': 'entropy', 'max_depth': 30, 'max_features': 'log2', 'n_estimators': 100}\n",
      "Accuracy = 0.349 for {'criterion': 'entropy', 'max_depth': 30, 'max_features': 'log2', 'n_estimators': 200}\n",
      "Accuracy = 0.358 for {'criterion': 'entropy', 'max_depth': 30, 'max_features': 'log2', 'n_estimators': 500}\n",
      "Accuracy = 0.396 for {'criterion': 'entropy', 'max_depth': 40, 'max_features': 'auto', 'n_estimators': 10}\n",
      "Accuracy = 0.380 for {'criterion': 'entropy', 'max_depth': 40, 'max_features': 'auto', 'n_estimators': 100}\n",
      "Accuracy = 0.374 for {'criterion': 'entropy', 'max_depth': 40, 'max_features': 'auto', 'n_estimators': 200}\n",
      "Accuracy = 0.361 for {'criterion': 'entropy', 'max_depth': 40, 'max_features': 'auto', 'n_estimators': 500}\n",
      "Accuracy = 0.396 for {'criterion': 'entropy', 'max_depth': 40, 'max_features': 'sqrt', 'n_estimators': 10}\n",
      "Accuracy = 0.380 for {'criterion': 'entropy', 'max_depth': 40, 'max_features': 'sqrt', 'n_estimators': 100}\n",
      "Accuracy = 0.374 for {'criterion': 'entropy', 'max_depth': 40, 'max_features': 'sqrt', 'n_estimators': 200}\n",
      "Accuracy = 0.361 for {'criterion': 'entropy', 'max_depth': 40, 'max_features': 'sqrt', 'n_estimators': 500}\n",
      "Accuracy = 0.389 for {'criterion': 'entropy', 'max_depth': 40, 'max_features': 'log2', 'n_estimators': 10}\n",
      "Accuracy = 0.355 for {'criterion': 'entropy', 'max_depth': 40, 'max_features': 'log2', 'n_estimators': 100}\n",
      "Accuracy = 0.347 for {'criterion': 'entropy', 'max_depth': 40, 'max_features': 'log2', 'n_estimators': 200}\n",
      "Accuracy = 0.355 for {'criterion': 'entropy', 'max_depth': 40, 'max_features': 'log2', 'n_estimators': 500}\n",
      "Accuracy = 0.392 for {'criterion': 'entropy', 'max_depth': 50, 'max_features': 'auto', 'n_estimators': 10}\n",
      "Accuracy = 0.363 for {'criterion': 'entropy', 'max_depth': 50, 'max_features': 'auto', 'n_estimators': 100}\n",
      "Accuracy = 0.367 for {'criterion': 'entropy', 'max_depth': 50, 'max_features': 'auto', 'n_estimators': 200}\n",
      "Accuracy = 0.361 for {'criterion': 'entropy', 'max_depth': 50, 'max_features': 'auto', 'n_estimators': 500}\n",
      "Accuracy = 0.392 for {'criterion': 'entropy', 'max_depth': 50, 'max_features': 'sqrt', 'n_estimators': 10}\n",
      "Accuracy = 0.363 for {'criterion': 'entropy', 'max_depth': 50, 'max_features': 'sqrt', 'n_estimators': 100}\n",
      "Accuracy = 0.367 for {'criterion': 'entropy', 'max_depth': 50, 'max_features': 'sqrt', 'n_estimators': 200}\n",
      "Accuracy = 0.361 for {'criterion': 'entropy', 'max_depth': 50, 'max_features': 'sqrt', 'n_estimators': 500}\n",
      "Accuracy = 0.388 for {'criterion': 'entropy', 'max_depth': 50, 'max_features': 'log2', 'n_estimators': 10}\n",
      "Accuracy = 0.368 for {'criterion': 'entropy', 'max_depth': 50, 'max_features': 'log2', 'n_estimators': 100}\n",
      "Accuracy = 0.352 for {'criterion': 'entropy', 'max_depth': 50, 'max_features': 'log2', 'n_estimators': 200}\n",
      "Accuracy = 0.362 for {'criterion': 'entropy', 'max_depth': 50, 'max_features': 'log2', 'n_estimators': 500}\n",
      "              precision    recall  f1-score   support\n",
      "\n",
      "           0       0.45      0.79      0.57        33\n",
      "           1       0.68      0.32      0.43        47\n",
      "\n",
      "    accuracy                           0.51        80\n",
      "   macro avg       0.57      0.55      0.50        80\n",
      "weighted avg       0.59      0.51      0.49        80\n",
      "\n",
      "0.5818826563507415\n",
      "0.43478260869565216\n"
     ]
    }
   ],
   "source": [
    "param_grid = { \n",
    "    'n_estimators': [10, 100, 200, 500],\n",
    "    'max_features': ['auto', 'sqrt', 'log2'],\n",
    "    'max_depth' : [20, 25, 30, 40, 50],\n",
    "    'criterion' :['gini', 'entropy']\n",
    "}\n",
    "\n",
    "rfc=RandomForestClassifier(random_state=31)\n",
    "CV_rfc = GridSearchCV(estimator=rfc, param_grid=param_grid, cv= 5, scoring='f1')\n",
    "CV_rfc.fit(X_train, y_train)\n",
    "\n",
    "print(\"Best parameters set found on development set:\")\n",
    "print()\n",
    "print(CV_rfc.best_params_)\n",
    "print()\n",
    "print(\"Grid scores on development set:\")\n",
    "print()\n",
    "means = CV_rfc.cv_results_['mean_test_score']\n",
    "for mean, params in zip(means, CV_rfc.cv_results_['params']):\n",
    "    print(\"Accuracy = %0.3f for %r\" % (mean, params))\n",
    "\n",
    "test_pred = CV_rfc.predict(X_test)\n",
    "print(classification_report(y_test, test_pred))\n",
    "print(roc_auc_score(y_test, CV_rfc.predict_proba(X_test)[:, 1]))\n",
    "print(f1_score(y_test, test_pred))"
   ]
  },
  {
   "cell_type": "markdown",
   "metadata": {},
   "source": [
    "<h3>Predict validation set</h3>"
   ]
  },
  {
   "cell_type": "code",
   "execution_count": 9,
   "metadata": {
    "colab": {
     "base_uri": "https://localhost:8080/"
    },
    "executionInfo": {
     "elapsed": 260,
     "status": "ok",
     "timestamp": 1634276981414,
     "user": {
      "displayName": "雍冠軒校友",
      "photoUrl": "https://lh3.googleusercontent.com/a-/AOh14Gg3oPXigq7hTgowTvL89alWdLe7GPGqH9dab29UJg=s64",
      "userId": "10414523399875693720"
     },
     "user_tz": -480
    },
    "id": "LgIkYMJQsN3_",
    "outputId": "47104733-b3d4-42d4-e903-2adf91e79c91"
   },
   "outputs": [
    {
     "data": {
      "text/html": [
       "<div>\n",
       "<style scoped>\n",
       "    .dataframe tbody tr th:only-of-type {\n",
       "        vertical-align: middle;\n",
       "    }\n",
       "\n",
       "    .dataframe tbody tr th {\n",
       "        vertical-align: top;\n",
       "    }\n",
       "\n",
       "    .dataframe thead th {\n",
       "        text-align: right;\n",
       "    }\n",
       "</style>\n",
       "<table border=\"1\" class=\"dataframe\">\n",
       "  <thead>\n",
       "    <tr style=\"text-align: right;\">\n",
       "      <th></th>\n",
       "      <th>Filename</th>\n",
       "      <th>Obesity</th>\n",
       "    </tr>\n",
       "  </thead>\n",
       "  <tbody>\n",
       "    <tr>\n",
       "      <th>0</th>\n",
       "      <td>ID_1159.txt</td>\n",
       "      <td>0</td>\n",
       "    </tr>\n",
       "    <tr>\n",
       "      <th>1</th>\n",
       "      <td>ID_1160.txt</td>\n",
       "      <td>0</td>\n",
       "    </tr>\n",
       "    <tr>\n",
       "      <th>2</th>\n",
       "      <td>ID_1162.txt</td>\n",
       "      <td>0</td>\n",
       "    </tr>\n",
       "    <tr>\n",
       "      <th>3</th>\n",
       "      <td>ID_1167.txt</td>\n",
       "      <td>0</td>\n",
       "    </tr>\n",
       "    <tr>\n",
       "      <th>4</th>\n",
       "      <td>ID_1168.txt</td>\n",
       "      <td>1</td>\n",
       "    </tr>\n",
       "  </tbody>\n",
       "</table>\n",
       "</div>"
      ],
      "text/plain": [
       "      Filename  Obesity\n",
       "0  ID_1159.txt        0\n",
       "1  ID_1160.txt        0\n",
       "2  ID_1162.txt        0\n",
       "3  ID_1167.txt        0\n",
       "4  ID_1168.txt        1"
      ]
     },
     "execution_count": 9,
     "metadata": {},
     "output_type": "execute_result"
    }
   ],
   "source": [
    "pred = CV_rfc.predict(valid_df)\n",
    "pred_df = pd.read_csv('./sample_submission.csv') \n",
    "pred_df['Obesity'] = pred\n",
    "# pred_df.to_csv('./sub.csv',index=False)\n",
    "pred_df.head()"
   ]
  },
  {
   "cell_type": "code",
   "execution_count": null,
   "metadata": {},
   "outputs": [],
   "source": []
  }
 ],
 "metadata": {
  "colab": {
   "collapsed_sections": [],
   "name": "Untitled.ipynb",
   "provenance": []
  },
  "kernelspec": {
   "display_name": "Python 3",
   "language": "python",
   "name": "python3"
  },
  "language_info": {
   "codemirror_mode": {
    "name": "ipython",
    "version": 3
   },
   "file_extension": ".py",
   "mimetype": "text/x-python",
   "name": "python",
   "nbconvert_exporter": "python",
   "pygments_lexer": "ipython3",
   "version": "3.7.6"
  }
 },
 "nbformat": 4,
 "nbformat_minor": 5
}
