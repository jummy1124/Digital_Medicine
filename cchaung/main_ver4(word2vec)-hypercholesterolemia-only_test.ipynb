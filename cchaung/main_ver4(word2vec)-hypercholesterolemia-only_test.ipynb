{
 "cells": [
  {
   "cell_type": "markdown",
   "metadata": {},
   "source": [
    "## test+train的Fat data全用來當word2vec的訓練文本\n",
    "## 不考慮出現\"not\"的情況( \"not\" 在model中相關字的意思和\"not\"沒有太大相關性)"
   ]
  },
  {
   "cell_type": "code",
   "execution_count": 1,
   "metadata": {},
   "outputs": [],
   "source": [
    "from os import listdir\n",
    "from os.path import isfile, isdir, join\n",
    "from collections import Counter\n",
    "import csv\n",
    "import numpy\n",
    "import pandas as pd\n",
    "from gensim.models.word2vec import Word2Vec\n",
    "import seaborn as sns\n",
    "from sklearn.metrics import confusion_matrix\n",
    "import matplotlib.pyplot as plt\n",
    "\n",
    "\n",
    "from data_preprocess import content_fraction\n",
    "from Dataloader import dataloader"
   ]
  },
  {
   "cell_type": "code",
   "execution_count": 2,
   "metadata": {},
   "outputs": [],
   "source": [
    "train_data_path = \"..\\Case_Presentation_1_Data\\Train_Textual\\\\\"\n",
    "test_data_path  = \"..\\Case_Presentation_1_Data\\Test_Intuitive\\\\\"\n",
    "\n",
    "train_data = dataloader(train_data_path)\n",
    "test_data  = dataloader(test_data_path)"
   ]
  },
  {
   "cell_type": "code",
   "execution_count": 3,
   "metadata": {
    "scrolled": true
   },
   "outputs": [
    {
     "name": "stdout",
     "output_type": "stream",
     "text": [
      "['discharg', 'summari', 'unsign', 'admiss', 'date', 'report', 'statu', 'unsign', 'discharg', 'date', 'discharg', 'diagnosi', 'coronari', 'arteri', 'diseas', 'unstabl', 'angina', 'histori', 'present', 'ill', 'hoopl', 'old', 'woman', 'statu', 'post', 'doubl', 'coronari', 'arteri', 'bypass', 'graft', 'endarterectomi', 'fourteen', 'year', 'ago', 'develop', 'angina', 'six', 'month', 'ago', 'suffer', 'unstabl', 'angina', 'sever', 'day', 'coronari', 'catheter', 'result', 'show', 'sever', 'occlus', 'saphen', 'vein', 'graft', 'occlus', 'left', 'anterior', 'descend', 'echocardiogram', 'show', 'excel', 'left', 'ventricular', 'function', 'intraaort', 'balloon', 'pump', 'place', 'reliev', 'intract', 'angina', 'past', 'medic', 'histori', 'signific', 'chest', 'pain', 'short', 'breath', 'admit', 'talc', 'commun', 'medic', 'center', 'catheter', 'coronari', 'arteri', 'bypass', 'graft', 'coronari', 'endarterectomi', 'no', 'chest', 'pain', 'six', 'month', 'prior', 'admiss', 'time', 'inder', 'aspirin', 'six', 'month', 'prior', 'admiss', 'develop', 'recurr', 'typic', 'angina', 'march', 'develop', 'chest', 'pain', 'rest', 'went', 'packpin', 'medic', 'center', 'rule', 'myocardi', 'infarct', 'januari', 'recurr', 'chest', 'pain', 'depress', 'transfer', 'past', 'medic', 'histori', 'signific', 'plu', 'hypertens', 'hysterectomi', 'current', 'medic', 'transfer', 'aspirin', 'diltiazem', 'inder', 'xanax', 'prn', 'allergi', 'allergi', 'penicillin', 'caus', 'rash', 'famili', 'histori', 'posit', 'famili', 'histori', 'coronari', 'arteri', 'diseas', 'physic', 'examin', 'healthi', 'appear', 'woman', 'no', 'appar', 'distress', 'heent', 'normal', 'neck', 'suppl', 'no', 'costovertebr', 'angl', 'tender', 'back', 'lung', 'bibasilar', 'rale', 'heart', 'show', 'point', 'maxim', 'intens', 'seventh', 'intercost', 'space', 'regular', 'rate', 'rhythm', 'normal', 'jugular', 'venou', 'pressur', 'flat', 'jugular', 'vein', 'undistend', 'abdomen', 'posit', 'bowel', 'sound', 'not', 'hepatosplenomegali', 'palpabl', 'mass', 'extrem', 'without', 'edema', 'puls', 'carotid', 'puls', 'side', 'without', 'bruit', 'femor', 'bruit', 'right', 'no', 'bruit', 'left', 'dorsali', 'pedi', 'puls', 'bilater', 'well', 'posterior', 'tibiali', 'puls', 'neurolog', 'cranial', 'nerv', 'iixii', 'intact', 'motor', 'examin', 'throughout', 'reflex', 'throughout', 'downgo', 'toe', 'laboratori', 'examin', 'ekg', 'show', 'depress', 'biphas', 'chest', 'xray', 'hospit', 'normal', 'without', 'congest', 'heart', 'failur', 'hospit', 'cours', 'oper', 'redo', 'coronari', 'arteri', 'bypass', 'graft', 'done', 'kasson', 'postop', 'difficulti', 'wean', 'cardiopulmonari', 'bypass', 'continu', 'well', 'without', 'evid', 'ectopi', 'normal', 'sinu', 'rhythm', 'discharg', 'disposit', 'discharg', 'medic', 'ecotrin', 'inder', 'qid', 'bactrim', 'one', 'tablet', 'bid', 'time', 'seven', 'day', 'no', 'complic', 'stabl', 'discharg', 'disposit', 'home', 'followup', 'within', 'week', 'doctor', 'mathew', 'hector', 'batch', 'report', 'dictat', 'dexter', 'lillick', 'cinanholatrundloy', 'rehab']\n"
     ]
    }
   ],
   "source": [
    "print(train_data.text_list[0])"
   ]
  },
  {
   "cell_type": "markdown",
   "metadata": {},
   "source": [
    "### 取train data和test data中\"非肥胖\"的text"
   ]
  },
  {
   "cell_type": "code",
   "execution_count": 4,
   "metadata": {},
   "outputs": [],
   "source": [
    "model = Word2Vec(test_data.text_list[200:400])"
   ]
  },
  {
   "cell_type": "code",
   "execution_count": 5,
   "metadata": {},
   "outputs": [],
   "source": [
    "#定義相關性\n",
    "def similar(w2v_model, word, target, topn=10):\n",
    "        try:\n",
    "            return w2v_model.wv.similarity(word, target)\n",
    "        except:\n",
    "            return 0"
   ]
  },
  {
   "cell_type": "code",
   "execution_count": 6,
   "metadata": {},
   "outputs": [],
   "source": [
    "#找和 words相關性最大的前 [topn] 個字\n",
    "def most_similar(w2v_model, words, topn=20):\n",
    "    similar_df = pd.DataFrame()\n",
    "    for word in words:\n",
    "        try:\n",
    "            similar_words = pd.DataFrame(w2v_model.wv.most_similar(word, topn=topn), columns=[word, 'cos'])\n",
    "            similar_df = pd.concat([similar_df, similar_words], axis=1)\n",
    "        except:\n",
    "            print(word, \"not found in Word2Vec model!\")\n",
    "    return similar_df"
   ]
  },
  {
   "cell_type": "markdown",
   "metadata": {},
   "source": [
    "### 和\"not\"相關的前幾個字和\"not\"本身文義不相關"
   ]
  },
  {
   "cell_type": "code",
   "execution_count": 7,
   "metadata": {},
   "outputs": [
    {
     "name": "stdout",
     "output_type": "stream",
     "text": [
      "                   not       cos\n",
      "0                 none  0.911686\n",
      "1   treatmentsprocedur  0.908952\n",
      "2             procedur  0.896722\n",
      "3                brief  0.889055\n",
      "4                 oper  0.884970\n",
      "5               detail  0.872446\n",
      "6              remaind  0.849847\n",
      "7              uncompl  0.848976\n",
      "8               cather  0.846359\n",
      "9               hospit  0.841378\n",
      "10               cours  0.838909\n",
      "11              stress  0.820454\n",
      "12               resum  0.818031\n",
      "13             surgeri  0.817504\n",
      "14             rouxeni  0.816137\n",
      "15          laparoscop  0.814749\n",
      "16               chart  0.808677\n",
      "17                want  0.806330\n",
      "18         colonoscopi  0.801161\n",
      "19              commun  0.801003\n"
     ]
    }
   ],
   "source": [
    "print(most_similar(model, [\"not\"]))"
   ]
  },
  {
   "cell_type": "code",
   "execution_count": 8,
   "metadata": {},
   "outputs": [
    {
     "name": "stdout",
     "output_type": "stream",
     "text": [
      "   hypercholesterolemia       cos\n",
      "0         gastroesophag  0.993621\n",
      "1                  gout  0.993214\n",
      "2        hyperlipidemia  0.993153\n",
      "3                reflux  0.993035\n",
      "4                anemia  0.990231\n",
      "5               depress  0.987239\n",
      "6                peptic  0.986048\n",
      "7            osteoarthr  0.985913\n",
      "8                   osa  0.985161\n",
      "9            noninsulin  0.984999\n",
      "10                stent  0.984956\n",
      "11                 cabg  0.984250\n",
      "12               asthma  0.983907\n",
      "13             peripher  0.983482\n",
      "14       cardiomyopathi  0.983292\n",
      "15            hyperchol  0.983151\n",
      "16               cancer  0.982411\n",
      "17                 copd  0.982182\n",
      "18                adult  0.982125\n",
      "19               mother  0.982116\n"
     ]
    }
   ],
   "source": [
    "print(most_similar(model, [\"hypercholesterolemia\"]))"
   ]
  },
  {
   "cell_type": "code",
   "execution_count": 9,
   "metadata": {},
   "outputs": [
    {
     "name": "stdout",
     "output_type": "stream",
     "text": [
      "             angina       cos\n",
      "0           unstabl  0.994365\n",
      "1              copd  0.992652\n",
      "2             chief  0.992112\n",
      "3            stroke  0.989398\n",
      "4         cholecyst  0.987714\n",
      "5         bronchiti  0.986963\n",
      "6            recent  0.985154\n",
      "7             flare  0.984750\n",
      "8              cabg  0.984356\n",
      "9        osteoarthr  0.984206\n",
      "10      angioplasti  0.983632\n",
      "11          exacerb  0.983428\n",
      "12             like  0.980861\n",
      "13          brother  0.980216\n",
      "14          infarct  0.980014\n",
      "15  noncontributori  0.979524\n",
      "16   cardiomyopathi  0.979470\n",
      "17          flutter  0.978084\n",
      "18          multipl  0.977352\n",
      "19        secondari  0.976907\n"
     ]
    }
   ],
   "source": [
    "print(most_similar(model, [\"angina\"]))"
   ]
  },
  {
   "cell_type": "markdown",
   "metadata": {},
   "source": [
    "---------------------------------------------------------------------------------------------------------------------------"
   ]
  },
  {
   "cell_type": "markdown",
   "metadata": {},
   "source": [
    "## 計分方式"
   ]
  },
  {
   "cell_type": "code",
   "execution_count": 10,
   "metadata": {},
   "outputs": [],
   "source": [
    "def score(datakind, gap, target_word):\n",
    "    score=0\n",
    "    total = 0\n",
    "    for text in datakind:\n",
    "        for word in text:\n",
    "            if similar(model, word,  target_word)>gap:\n",
    "                score+=similar(model, word, target_word)\n",
    "        total+=score\n",
    "        score=0\n",
    "    average = total/200\n",
    "    return average"
   ]
  },
  {
   "cell_type": "markdown",
   "metadata": {},
   "source": [
    "### [gap]定義在大於多少相識性時要承認\n",
    "### [target_word]定義要以哪個字為中心找相關性"
   ]
  },
  {
   "cell_type": "code",
   "execution_count": 11,
   "metadata": {},
   "outputs": [],
   "source": [
    "gap = 0.85\n",
    "target_word = \"hypercholesterolemia\""
   ]
  },
  {
   "cell_type": "markdown",
   "metadata": {},
   "source": [
    "# Train data"
   ]
  },
  {
   "cell_type": "markdown",
   "metadata": {},
   "source": [
    "## 不肥胖"
   ]
  },
  {
   "cell_type": "code",
   "execution_count": 12,
   "metadata": {},
   "outputs": [
    {
     "name": "stdout",
     "output_type": "stream",
     "text": [
      "train_unfat_score:  147.1574928870797\n"
     ]
    }
   ],
   "source": [
    "train_unfat_score = score(train_data.text_list[0:200], gap, target_word)\n",
    "print(\"train_unfat_score: \",train_unfat_score)"
   ]
  },
  {
   "cell_type": "markdown",
   "metadata": {},
   "source": [
    "## 肥胖"
   ]
  },
  {
   "cell_type": "code",
   "execution_count": 13,
   "metadata": {},
   "outputs": [
    {
     "name": "stdout",
     "output_type": "stream",
     "text": [
      "train_fat_score:  163.3170103764534\n"
     ]
    }
   ],
   "source": [
    "train_fat_score = score(train_data.text_list[200:400], gap, target_word)\n",
    "print(\"train_fat_score: \",train_fat_score)"
   ]
  },
  {
   "cell_type": "markdown",
   "metadata": {},
   "source": [
    "# Test data"
   ]
  },
  {
   "cell_type": "markdown",
   "metadata": {},
   "source": [
    "## 不肥胖"
   ]
  },
  {
   "cell_type": "code",
   "execution_count": 14,
   "metadata": {},
   "outputs": [
    {
     "name": "stdout",
     "output_type": "stream",
     "text": [
      "test_unfat_score:  149.66108402490616\n"
     ]
    }
   ],
   "source": [
    "test_unfat_score = score(test_data.text_list[0:200], gap, target_word)\n",
    "print(\"test_unfat_score: \",test_unfat_score)"
   ]
  },
  {
   "cell_type": "markdown",
   "metadata": {},
   "source": [
    "## 肥胖"
   ]
  },
  {
   "cell_type": "code",
   "execution_count": 15,
   "metadata": {},
   "outputs": [
    {
     "name": "stdout",
     "output_type": "stream",
     "text": [
      "test_fat_score:  155.1287112686038\n"
     ]
    }
   ],
   "source": [
    "test_fat_score =score(test_data.text_list[200:400], gap, target_word)\n",
    "print(\"test_fat_score: \",test_fat_score)"
   ]
  },
  {
   "cell_type": "code",
   "execution_count": 16,
   "metadata": {},
   "outputs": [
    {
     "name": "stdout",
     "output_type": "stream",
     "text": [
      "upper:  159.22286082252862\n"
     ]
    }
   ],
   "source": [
    "upper = (train_fat_score+test_fat_score)/2\n",
    "print(\"upper: \",upper)"
   ]
  },
  {
   "cell_type": "code",
   "execution_count": 17,
   "metadata": {},
   "outputs": [
    {
     "name": "stdout",
     "output_type": "stream",
     "text": [
      "lower:  148.40928845599294\n"
     ]
    }
   ],
   "source": [
    "lower =  (train_unfat_score+test_unfat_score)/2\n",
    "print(\"lower: \",lower)"
   ]
  },
  {
   "cell_type": "markdown",
   "metadata": {},
   "source": [
    "### standard 建立判斷文章是否為Fat 的標準分數。 大於standard即為Fat，反之不是"
   ]
  },
  {
   "cell_type": "code",
   "execution_count": 18,
   "metadata": {},
   "outputs": [
    {
     "name": "stdout",
     "output_type": "stream",
     "text": [
      "standard:  153.81607463926076\n"
     ]
    }
   ],
   "source": [
    "standard = (upper+lower)/2\n",
    "print(\"standard: \",standard)"
   ]
  },
  {
   "cell_type": "markdown",
   "metadata": {},
   "source": [
    "---------------------------------------------------------------------------------------------------------------------------"
   ]
  },
  {
   "cell_type": "markdown",
   "metadata": {},
   "source": [
    "# Validation"
   ]
  },
  {
   "cell_type": "code",
   "execution_count": 19,
   "metadata": {},
   "outputs": [],
   "source": [
    "validation_data_path  = \"..\\Case_Presentation_1_Data\\Validation\\\\\"\n",
    "validation_data  = dataloader(validation_data_path)"
   ]
  },
  {
   "cell_type": "code",
   "execution_count": 20,
   "metadata": {},
   "outputs": [
    {
     "data": {
      "text/plain": [
       "41.640547994375225"
      ]
     },
     "execution_count": 20,
     "metadata": {},
     "output_type": "execute_result"
    }
   ],
   "source": [
    "score(validation_data.text_list, gap, target_word)"
   ]
  },
  {
   "cell_type": "code",
   "execution_count": 21,
   "metadata": {},
   "outputs": [
    {
     "name": "stdout",
     "output_type": "stream",
     "text": [
      "50\n"
     ]
    }
   ],
   "source": [
    "score=0\n",
    "ans = []\n",
    "for text in validation_data.text_list:\n",
    "    for word in text:\n",
    "        if similar(model, word,  target_word)>gap:\n",
    "            score+=similar(model, word, target_word)\n",
    "    if score>standard:\n",
    "        ans.append(0)\n",
    "    else:\n",
    "        ans.append(1)\n",
    "    score=0\n",
    "\n",
    "print(len(ans))"
   ]
  },
  {
   "cell_type": "code",
   "execution_count": 22,
   "metadata": {},
   "outputs": [
    {
     "name": "stdout",
     "output_type": "stream",
     "text": [
      "[0, 0, 1, 0, 0, 1, 1, 1, 0, 1, 0, 1, 0, 0, 0, 1, 0, 1, 1, 0, 1, 1, 1, 1, 1, 0, 0, 1, 1, 1, 0, 0, 0, 0, 1, 0, 1, 1, 0, 1, 0, 0, 0, 0, 1, 0, 0, 0, 0, 1]\n"
     ]
    }
   ],
   "source": [
    "print(ans)"
   ]
  },
  {
   "cell_type": "code",
   "execution_count": 23,
   "metadata": {},
   "outputs": [
    {
     "data": {
      "text/plain": [
       "50"
      ]
     },
     "execution_count": 23,
     "metadata": {},
     "output_type": "execute_result"
    }
   ],
   "source": [
    "len(validation_data.text_list)"
   ]
  },
  {
   "cell_type": "markdown",
   "metadata": {},
   "source": [
    "---------------------------------------------------------------------------------------------------------------------------"
   ]
  },
  {
   "cell_type": "markdown",
   "metadata": {},
   "source": [
    "# confusion matrix & F1-score"
   ]
  },
  {
   "cell_type": "code",
   "execution_count": 24,
   "metadata": {},
   "outputs": [],
   "source": [
    "from sklearn.metrics import confusion_matrix\n",
    "\n",
    "def precision(matrix):\n",
    "    return matrix[0,0]/(matrix[0,0]+matrix[0,1])\n",
    "\n",
    "def recall(matrix):\n",
    "    return matrix[0,0]/(matrix[0,0]+matrix[1,0])\n",
    "\n",
    "\n",
    "def f1(matrix):\n",
    "    return (2*precision(matrix)*recall(matrix))/(precision(matrix)+recall(matrix))\n",
    "\n",
    "\n",
    "def confusionMatix(matrix, title):\n",
    "    sns.set()\n",
    "    f,ax=plt.subplots()\n",
    "    #y_true = label\n",
    "    #y_pred = ans\n",
    "    sns.heatmap(matrix,annot=True,ax=ax, cmap = plt.cm.Blues) #畫熱力圖\n",
    "\n",
    "    ax.set_title(title) #標題\n",
    "    ax.set_xlabel('predict') #x軸\n",
    "    ax.set_ylabel('true') #y軸\n",
    "\n",
    "def print_result(matrix, title):\n",
    "    print(\"precision: \",precision(matrix))\n",
    "    print(\"recall: \",recall(matrix))\n",
    "    print(\"F1-Score: \",f1(matrix))\n",
    "    confusionMatix(matrix, title)\n",
    "    \n",
    "        "
   ]
  },
  {
   "cell_type": "markdown",
   "metadata": {},
   "source": [
    "---------------------------------------------------------------------------------------------------------------------------"
   ]
  },
  {
   "cell_type": "markdown",
   "metadata": {},
   "source": [
    "## train data"
   ]
  },
  {
   "cell_type": "code",
   "execution_count": 25,
   "metadata": {},
   "outputs": [],
   "source": [
    "train_data_path  = \"..\\Case_Presentation_1_Data\\Train_Textual\\\\\"\n",
    "train_data  = dataloader(train_data_path)\n",
    "score=0\n",
    "train_ans = []\n",
    "for text in train_data.text_list:\n",
    "    for word in text:\n",
    "        if similar(model, word,  target_word)>gap:\n",
    "            score+=similar(model, word, target_word)\n",
    "    if score>standard:\n",
    "        train_ans.append(0)\n",
    "    else:\n",
    "        train_ans.append(1)\n",
    "    score=0"
   ]
  },
  {
   "cell_type": "code",
   "execution_count": 26,
   "metadata": {
    "scrolled": true
   },
   "outputs": [],
   "source": [
    "train_y_true = train_data.label_list\n",
    "train_y_pred = train_ans\n",
    "\n",
    "train_confusion_matrix = confusion_matrix(train_y_true, train_y_pred)\n",
    "tmp = numpy.empty((2,2), dtype=float)\n",
    "\n",
    "for i in range(2):\n",
    "    for j in range(2):\n",
    "        tmp[i][j] = float(train_confusion_matrix[i][j])/200\n",
    "train_confusion_matrix = tmp"
   ]
  },
  {
   "cell_type": "code",
   "execution_count": 27,
   "metadata": {},
   "outputs": [
    {
     "name": "stdout",
     "output_type": "stream",
     "text": [
      "precision:  0.395\n",
      "recall:  0.4488636363636364\n",
      "F1-Score:  0.42021276595744683\n"
     ]
    },
    {
     "data": {
      "image/png": "[encoded data removed]",
      "text/plain": [
       "<Figure size 432x288 with 2 Axes>"
      ]
     },
     "metadata": {},
     "output_type": "display_data"
    }
   ],
   "source": [
    "print_result(train_confusion_matrix, \"train Data\")"
   ]
  },
  {
   "cell_type": "markdown",
   "metadata": {},
   "source": [
    "## test data"
   ]
  },
  {
   "cell_type": "code",
   "execution_count": 28,
   "metadata": {},
   "outputs": [],
   "source": [
    "test_data_path  = \"..\\Case_Presentation_1_Data\\Test_Intuitive\\\\\"\n",
    "test_data  = dataloader(test_data_path)\n",
    "score=0\n",
    "test_ans = []\n",
    "\n",
    "for text in test_data.text_list:\n",
    "    for word in text:\n",
    "        if similar(model, word,  target_word)>gap:\n",
    "            score+=similar(model, word, target_word)\n",
    "    if score>standard:\n",
    "        test_ans.append(0)\n",
    "    else:\n",
    "        test_ans.append(1)\n",
    "    score=0"
   ]
  },
  {
   "cell_type": "code",
   "execution_count": 29,
   "metadata": {},
   "outputs": [],
   "source": [
    "test_y_true = test_data.label_list\n",
    "test_y_pred = test_ans\n",
    "\n",
    "test_confusion_matrix = confusion_matrix(test_y_true, test_y_pred)\n",
    "tmp = numpy.empty((2,2), dtype=float)\n",
    "\n",
    "for i in range(2):\n",
    "    for j in range(2):\n",
    "        tmp[i][j] = float(test_confusion_matrix[i][j])/200\n",
    "test_confusion_matrix = tmp"
   ]
  },
  {
   "cell_type": "code",
   "execution_count": 30,
   "metadata": {},
   "outputs": [
    {
     "name": "stdout",
     "output_type": "stream",
     "text": [
      "precision:  0.42\n",
      "recall:  0.49122807017543857\n",
      "F1-Score:  0.4528301886792453\n"
     ]
    },
    {
     "data": {
      "image/png": "[encoded data removed]",
      "text/plain": [
       "<Figure size 432x288 with 2 Axes>"
      ]
     },
     "metadata": {},
     "output_type": "display_data"
    }
   ],
   "source": [
    "print_result(test_confusion_matrix, \"test Data\")"
   ]
  },
  {
   "cell_type": "code",
   "execution_count": null,
   "metadata": {},
   "outputs": [],
   "source": []
  }
 ],
 "metadata": {
  "kernelspec": {
   "display_name": "Python 3",
   "language": "python",
   "name": "python3"
  },
  "language_info": {
   "codemirror_mode": {
    "name": "ipython",
    "version": 3
   },
   "file_extension": ".py",
   "mimetype": "text/x-python",
   "name": "python",
   "nbconvert_exporter": "python",
   "pygments_lexer": "ipython3",
   "version": "3.8.5"
  }
 },
 "nbformat": 4,
 "nbformat_minor": 4
}
