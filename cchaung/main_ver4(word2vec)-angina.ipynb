{
 "cells": [
  {
   "cell_type": "markdown",
   "metadata": {},
   "source": [
    "## test+train的Fat data全用來當word2vec的訓練文本\n",
    "## 不考慮出現\"not\"的情況( \"not\" 在model中相關字的意思和\"not\"沒有太大相關性)"
   ]
  },
  {
   "cell_type": "code",
   "execution_count": 1,
   "metadata": {},
   "outputs": [],
   "source": [
    "from os import listdir\n",
    "from os.path import isfile, isdir, join\n",
    "from collections import Counter\n",
    "import csv\n",
    "import numpy\n",
    "import pandas as pd\n",
    "from gensim.models.word2vec import Word2Vec\n",
    "import seaborn as sns\n",
    "from sklearn.metrics import confusion_matrix\n",
    "import matplotlib.pyplot as plt\n",
    "\n",
    "\n",
    "from data_preprocess import content_fraction\n",
    "from Dataloader import dataloader"
   ]
  },
  {
   "cell_type": "code",
   "execution_count": 2,
   "metadata": {},
   "outputs": [],
   "source": [
    "train_data_path = \"..\\Case_Presentation_1_Data\\Train_Textual\\\\\"\n",
    "test_data_path  = \"..\\Case_Presentation_1_Data\\Test_Intuitive\\\\\"\n",
    "\n",
    "train_data = dataloader(train_data_path)\n",
    "test_data  = dataloader(test_data_path)"
   ]
  },
  {
   "cell_type": "code",
   "execution_count": 3,
   "metadata": {
    "scrolled": true
   },
   "outputs": [
    {
     "name": "stdout",
     "output_type": "stream",
     "text": [
      "['discharg', 'summari', 'unsign', 'admiss', 'date', 'report', 'statu', 'unsign', 'discharg', 'date', 'discharg', 'diagnosi', 'coronari', 'arteri', 'diseas', 'unstabl', 'angina', 'histori', 'present', 'ill', 'hoopl', 'old', 'woman', 'statu', 'post', 'doubl', 'coronari', 'arteri', 'bypass', 'graft', 'endarterectomi', 'fourteen', 'year', 'ago', 'develop', 'angina', 'six', 'month', 'ago', 'suffer', 'unstabl', 'angina', 'sever', 'day', 'coronari', 'catheter', 'result', 'show', 'sever', 'occlus', 'saphen', 'vein', 'graft', 'occlus', 'left', 'anterior', 'descend', 'echocardiogram', 'show', 'excel', 'left', 'ventricular', 'function', 'intraaort', 'balloon', 'pump', 'place', 'reliev', 'intract', 'angina', 'past', 'medic', 'histori', 'signific', 'chest', 'pain', 'short', 'breath', 'admit', 'talc', 'commun', 'medic', 'center', 'catheter', 'coronari', 'arteri', 'bypass', 'graft', 'coronari', 'endarterectomi', 'no', 'chest', 'pain', 'six', 'month', 'prior', 'admiss', 'time', 'inder', 'aspirin', 'six', 'month', 'prior', 'admiss', 'develop', 'recurr', 'typic', 'angina', 'march', 'develop', 'chest', 'pain', 'rest', 'went', 'packpin', 'medic', 'center', 'rule', 'myocardi', 'infarct', 'januari', 'recurr', 'chest', 'pain', 'depress', 'transfer', 'past', 'medic', 'histori', 'signific', 'plu', 'hypertens', 'hysterectomi', 'current', 'medic', 'transfer', 'aspirin', 'diltiazem', 'inder', 'xanax', 'prn', 'allergi', 'allergi', 'penicillin', 'caus', 'rash', 'famili', 'histori', 'posit', 'famili', 'histori', 'coronari', 'arteri', 'diseas', 'physic', 'examin', 'healthi', 'appear', 'woman', 'no', 'appar', 'distress', 'heent', 'normal', 'neck', 'suppl', 'no', 'costovertebr', 'angl', 'tender', 'back', 'lung', 'bibasilar', 'rale', 'heart', 'show', 'point', 'maxim', 'intens', 'seventh', 'intercost', 'space', 'regular', 'rate', 'rhythm', 'normal', 'jugular', 'venou', 'pressur', 'flat', 'jugular', 'vein', 'undistend', 'abdomen', 'posit', 'bowel', 'sound', 'not', 'hepatosplenomegali', 'palpabl', 'mass', 'extrem', 'without', 'edema', 'puls', 'carotid', 'puls', 'side', 'without', 'bruit', 'femor', 'bruit', 'right', 'no', 'bruit', 'left', 'dorsali', 'pedi', 'puls', 'bilater', 'well', 'posterior', 'tibiali', 'puls', 'neurolog', 'cranial', 'nerv', 'iixii', 'intact', 'motor', 'examin', 'throughout', 'reflex', 'throughout', 'downgo', 'toe', 'laboratori', 'examin', 'ekg', 'show', 'depress', 'biphas', 'chest', 'xray', 'hospit', 'normal', 'without', 'congest', 'heart', 'failur', 'hospit', 'cours', 'oper', 'redo', 'coronari', 'arteri', 'bypass', 'graft', 'done', 'kasson', 'postop', 'difficulti', 'wean', 'cardiopulmonari', 'bypass', 'continu', 'well', 'without', 'evid', 'ectopi', 'normal', 'sinu', 'rhythm', 'discharg', 'disposit', 'discharg', 'medic', 'ecotrin', 'inder', 'qid', 'bactrim', 'one', 'tablet', 'bid', 'time', 'seven', 'day', 'no', 'complic', 'stabl', 'discharg', 'disposit', 'home', 'followup', 'within', 'week', 'doctor', 'mathew', 'hector', 'batch', 'report', 'dictat', 'dexter', 'lillick', 'cinanholatrundloy', 'rehab']\n"
     ]
    }
   ],
   "source": [
    "print(train_data.text_list[0])"
   ]
  },
  {
   "cell_type": "markdown",
   "metadata": {},
   "source": [
    "### 取train data和test data中\"非肥胖\"的text"
   ]
  },
  {
   "cell_type": "code",
   "execution_count": 4,
   "metadata": {},
   "outputs": [],
   "source": [
    "model = Word2Vec(train_data.text_list[200:400]+test_data.text_list[200:400])"
   ]
  },
  {
   "cell_type": "code",
   "execution_count": 5,
   "metadata": {},
   "outputs": [],
   "source": [
    "#定義相關性\n",
    "def similar(w2v_model, word, target, topn=10):\n",
    "        try:\n",
    "            return w2v_model.wv.similarity(word, target)\n",
    "        except:\n",
    "            return 0"
   ]
  },
  {
   "cell_type": "code",
   "execution_count": 6,
   "metadata": {},
   "outputs": [],
   "source": [
    "#找和 words相關性最大的前 [topn] 個字\n",
    "def most_similar(w2v_model, words, topn=20):\n",
    "    similar_df = pd.DataFrame()\n",
    "    for word in words:\n",
    "        try:\n",
    "            similar_words = pd.DataFrame(w2v_model.wv.most_similar(word, topn=topn), columns=[word, 'cos'])\n",
    "            similar_df = pd.concat([similar_df, similar_words], axis=1)\n",
    "        except:\n",
    "            print(word, \"not found in Word2Vec model!\")\n",
    "    return similar_df"
   ]
  },
  {
   "cell_type": "markdown",
   "metadata": {},
   "source": [
    "### 和\"not\"相關的前幾個字和\"not\"本身文義不相關"
   ]
  },
  {
   "cell_type": "code",
   "execution_count": 7,
   "metadata": {},
   "outputs": [
    {
     "name": "stdout",
     "output_type": "stream",
     "text": [
      "                   not       cos\n",
      "0   treatmentsprocedur  0.825367\n",
      "1             endoscop  0.820820\n",
      "2                brief  0.814335\n",
      "3                 none  0.790733\n",
      "4                could  0.778024\n",
      "5             reproduc  0.767728\n",
      "6              interim  0.757878\n",
      "7               detail  0.747915\n",
      "8                resum  0.732646\n",
      "9             procedur  0.729379\n",
      "10              applic  0.718638\n",
      "11                oper  0.717964\n",
      "12   pericardiocentesi  0.710922\n",
      "13            descript  0.704558\n",
      "14       arthrocentesi  0.684125\n",
      "15              though  0.682973\n",
      "16                 may  0.676472\n",
      "17             fiveday  0.648564\n",
      "18               drive  0.646923\n",
      "19             complet  0.645882\n"
     ]
    }
   ],
   "source": [
    "print(most_similar(model, [\"not\"]))"
   ]
  },
  {
   "cell_type": "code",
   "execution_count": 8,
   "metadata": {},
   "outputs": [
    {
     "name": "stdout",
     "output_type": "stream",
     "text": [
      "   hypercholesterolemia       cos\n",
      "0           hypothyroid  0.965932\n",
      "1             hypertens  0.963616\n",
      "2        hyperlipidemia  0.951128\n",
      "3              arthriti  0.938871\n",
      "4         insulindepend  0.935257\n",
      "5               mellitu  0.932998\n",
      "6            neuropathi  0.928657\n",
      "7                  iddm  0.924806\n",
      "8          postmenopaus  0.921284\n",
      "9                   htn  0.920597\n",
      "10               seizur  0.913740\n",
      "11           rheumatoid  0.913662\n",
      "12          retinopathi  0.911229\n",
      "13              depress  0.910394\n",
      "14               asthma  0.909304\n",
      "15            hyperchol  0.906539\n",
      "16               disord  0.902071\n",
      "17               reflux  0.902004\n",
      "18              nephrot  0.898870\n",
      "19                 gout  0.898852\n"
     ]
    }
   ],
   "source": [
    "print(most_similar(model, [\"hypercholesterolemia\"]))"
   ]
  },
  {
   "cell_type": "code",
   "execution_count": 9,
   "metadata": {},
   "outputs": [
    {
     "name": "stdout",
     "output_type": "stream",
     "text": [
      "       angina       cos\n",
      "0     unstabl  0.964783\n",
      "1      recurr  0.929179\n",
      "2      recent  0.916949\n",
      "3      syncop  0.907864\n",
      "4        atyp  0.893433\n",
      "5       chief  0.889880\n",
      "6       flare  0.886664\n",
      "7         yof  0.885539\n",
      "8   complaint  0.884652\n",
      "9   nonischem  0.880499\n",
      "10     system  0.879636\n",
      "11    multipl  0.873770\n",
      "12      stori  0.871812\n",
      "13        bmc  0.866544\n",
      "14      onset  0.865687\n",
      "15       copd  0.863326\n",
      "16    abscess  0.860170\n",
      "17   myocardi  0.858409\n",
      "18    infarct  0.857559\n",
      "19    present  0.855288\n"
     ]
    }
   ],
   "source": [
    "print(most_similar(model, [\"angina\"]))"
   ]
  },
  {
   "cell_type": "markdown",
   "metadata": {},
   "source": [
    "---------------------------------------------------------------------------------------------------------------------------"
   ]
  },
  {
   "cell_type": "markdown",
   "metadata": {},
   "source": [
    "## 計分方式"
   ]
  },
  {
   "cell_type": "code",
   "execution_count": 10,
   "metadata": {},
   "outputs": [],
   "source": [
    "def score(datakind, gap, target_word):\n",
    "    score=0\n",
    "    total = 0\n",
    "    for text in datakind:\n",
    "        for word in text:\n",
    "            if similar(model, word,  target_word)>gap:\n",
    "                score+=similar(model, word, target_word)\n",
    "        total+=score\n",
    "        score=0\n",
    "    average = total/200\n",
    "    return average"
   ]
  },
  {
   "cell_type": "markdown",
   "metadata": {},
   "source": [
    "### [gap]定義在大於多少相識性時要承認\n",
    "### [target_word]定義要以哪個字為中心找相關性"
   ]
  },
  {
   "cell_type": "code",
   "execution_count": 11,
   "metadata": {},
   "outputs": [],
   "source": [
    "gap = 0.85\n",
    "target_word = \"angina\""
   ]
  },
  {
   "cell_type": "markdown",
   "metadata": {},
   "source": [
    "# Train data"
   ]
  },
  {
   "cell_type": "markdown",
   "metadata": {},
   "source": [
    "## 不肥胖"
   ]
  },
  {
   "cell_type": "code",
   "execution_count": 12,
   "metadata": {},
   "outputs": [
    {
     "name": "stdout",
     "output_type": "stream",
     "text": [
      "train_unfat_score:  6.147843938469887\n"
     ]
    }
   ],
   "source": [
    "train_unfat_score = score(train_data.text_list[0:200], gap, target_word)\n",
    "print(\"train_unfat_score: \",train_unfat_score)"
   ]
  },
  {
   "cell_type": "markdown",
   "metadata": {},
   "source": [
    "## 肥胖"
   ]
  },
  {
   "cell_type": "code",
   "execution_count": 13,
   "metadata": {},
   "outputs": [
    {
     "name": "stdout",
     "output_type": "stream",
     "text": [
      "train_fat_score:  6.398882859945298\n"
     ]
    }
   ],
   "source": [
    "train_fat_score = score(train_data.text_list[200:400], gap, target_word)\n",
    "print(\"train_fat_score: \",train_fat_score)"
   ]
  },
  {
   "cell_type": "markdown",
   "metadata": {},
   "source": [
    "# Test data"
   ]
  },
  {
   "cell_type": "markdown",
   "metadata": {},
   "source": [
    "## 不肥胖"
   ]
  },
  {
   "cell_type": "code",
   "execution_count": 14,
   "metadata": {},
   "outputs": [
    {
     "name": "stdout",
     "output_type": "stream",
     "text": [
      "test_unfat_score:  6.132664863467216\n"
     ]
    }
   ],
   "source": [
    "test_unfat_score = score(test_data.text_list[0:200], gap, target_word)\n",
    "print(\"test_unfat_score: \",test_unfat_score)"
   ]
  },
  {
   "cell_type": "markdown",
   "metadata": {},
   "source": [
    "## 肥胖"
   ]
  },
  {
   "cell_type": "code",
   "execution_count": 15,
   "metadata": {},
   "outputs": [
    {
     "name": "stdout",
     "output_type": "stream",
     "text": [
      "test_fat_score:  5.940745521187782\n"
     ]
    }
   ],
   "source": [
    "test_fat_score =score(test_data.text_list[200:400], gap, target_word)\n",
    "print(\"test_fat_score: \",test_fat_score)"
   ]
  },
  {
   "cell_type": "code",
   "execution_count": 16,
   "metadata": {},
   "outputs": [
    {
     "name": "stdout",
     "output_type": "stream",
     "text": [
      "upper:  6.16981419056654\n"
     ]
    }
   ],
   "source": [
    "upper = (train_fat_score+test_fat_score)/2\n",
    "print(\"upper: \",upper)"
   ]
  },
  {
   "cell_type": "code",
   "execution_count": 17,
   "metadata": {},
   "outputs": [
    {
     "name": "stdout",
     "output_type": "stream",
     "text": [
      "lower:  6.140254400968551\n"
     ]
    }
   ],
   "source": [
    "lower =  (train_unfat_score+test_unfat_score)/2\n",
    "print(\"lower: \",lower)"
   ]
  },
  {
   "cell_type": "markdown",
   "metadata": {},
   "source": [
    "### standard 建立判斷文章是否為Fat 的標準分數。 大於standard即為Fat，反之不是"
   ]
  },
  {
   "cell_type": "code",
   "execution_count": 18,
   "metadata": {},
   "outputs": [
    {
     "name": "stdout",
     "output_type": "stream",
     "text": [
      "standard:  6.155034295767546\n"
     ]
    }
   ],
   "source": [
    "standard = (upper+lower)/2\n",
    "print(\"standard: \",standard)"
   ]
  },
  {
   "cell_type": "markdown",
   "metadata": {},
   "source": [
    "---------------------------------------------------------------------------------------------------------------------------"
   ]
  },
  {
   "cell_type": "markdown",
   "metadata": {},
   "source": [
    "# Validation"
   ]
  },
  {
   "cell_type": "code",
   "execution_count": 19,
   "metadata": {},
   "outputs": [],
   "source": [
    "validation_data_path  = \"..\\Case_Presentation_1_Data\\Validation\\\\\"\n",
    "validation_data  = dataloader(validation_data_path)"
   ]
  },
  {
   "cell_type": "code",
   "execution_count": 20,
   "metadata": {},
   "outputs": [
    {
     "data": {
      "text/plain": [
       "1.839449099600315"
      ]
     },
     "execution_count": 20,
     "metadata": {},
     "output_type": "execute_result"
    }
   ],
   "source": [
    "score(validation_data.text_list, gap, target_word)"
   ]
  },
  {
   "cell_type": "code",
   "execution_count": 21,
   "metadata": {},
   "outputs": [
    {
     "name": "stdout",
     "output_type": "stream",
     "text": [
      "50\n"
     ]
    }
   ],
   "source": [
    "score=0\n",
    "ans = []\n",
    "for text in validation_data.text_list:\n",
    "    for word in text:\n",
    "        if similar(model, word,  target_word)>gap:\n",
    "            score+=similar(model, word, target_word)\n",
    "    if score>standard:\n",
    "        ans.append(0)\n",
    "    else:\n",
    "        ans.append(1)\n",
    "    score=0\n",
    "\n",
    "print(len(ans))"
   ]
  },
  {
   "cell_type": "code",
   "execution_count": 22,
   "metadata": {},
   "outputs": [
    {
     "name": "stdout",
     "output_type": "stream",
     "text": [
      "[0, 1, 1, 1, 1, 1, 0, 1, 0, 0, 0, 0, 0, 1, 0, 1, 0, 0, 1, 0, 1, 1, 0, 1, 1, 1, 0, 1, 0, 1, 1, 0, 1, 0, 0, 0, 1, 1, 1, 0, 0, 0, 0, 0, 1, 0, 0, 0, 0, 0]\n"
     ]
    }
   ],
   "source": [
    "print(ans)"
   ]
  },
  {
   "cell_type": "code",
   "execution_count": 23,
   "metadata": {},
   "outputs": [
    {
     "data": {
      "text/plain": [
       "50"
      ]
     },
     "execution_count": 23,
     "metadata": {},
     "output_type": "execute_result"
    }
   ],
   "source": [
    "len(validation_data.text_list)"
   ]
  },
  {
   "cell_type": "markdown",
   "metadata": {},
   "source": [
    "---------------------------------------------------------------------------------------------------------------------------"
   ]
  },
  {
   "cell_type": "markdown",
   "metadata": {},
   "source": [
    "# confusion matrix & F1-score"
   ]
  },
  {
   "cell_type": "code",
   "execution_count": 24,
   "metadata": {},
   "outputs": [],
   "source": [
    "from sklearn.metrics import confusion_matrix\n",
    "\n",
    "def precision(matrix):\n",
    "    return matrix[0,0]/(matrix[0,0]+matrix[0,1])\n",
    "\n",
    "def recall(matrix):\n",
    "    return matrix[0,0]/(matrix[0,0]+matrix[1,0])\n",
    "\n",
    "\n",
    "def f1(matrix):\n",
    "    return (2*precision(matrix)*recall(matrix))/(precision(matrix)+recall(matrix))\n",
    "\n",
    "\n",
    "def confusionMatix(matrix, title):\n",
    "    sns.set()\n",
    "    f,ax=plt.subplots()\n",
    "    #y_true = label\n",
    "    #y_pred = ans\n",
    "    sns.heatmap(matrix,annot=True,ax=ax, cmap = plt.cm.Blues) #畫熱力圖\n",
    "\n",
    "    ax.set_title(title) #標題\n",
    "    ax.set_xlabel('predict') #x軸\n",
    "    ax.set_ylabel('true') #y軸\n",
    "\n",
    "def print_result(matrix, title):\n",
    "    print(\"precision: \",precision(matrix))\n",
    "    print(\"recall: \",recall(matrix))\n",
    "    print(\"F1-Score: \",f1(matrix))\n",
    "    confusionMatix(matrix, title)\n",
    "    \n",
    "        "
   ]
  },
  {
   "cell_type": "markdown",
   "metadata": {},
   "source": [
    "---------------------------------------------------------------------------------------------------------------------------"
   ]
  },
  {
   "cell_type": "markdown",
   "metadata": {},
   "source": [
    "## train data"
   ]
  },
  {
   "cell_type": "code",
   "execution_count": 25,
   "metadata": {},
   "outputs": [],
   "source": [
    "train_data_path  = \"..\\Case_Presentation_1_Data\\Train_Textual\\\\\"\n",
    "train_data  = dataloader(train_data_path)\n",
    "score=0\n",
    "train_ans = []\n",
    "for text in train_data.text_list:\n",
    "    for word in text:\n",
    "        if similar(model, word,  target_word)>gap:\n",
    "            score+=similar(model, word, target_word)\n",
    "    if score>standard:\n",
    "        train_ans.append(0)\n",
    "    else:\n",
    "        train_ans.append(1)\n",
    "    score=0"
   ]
  },
  {
   "cell_type": "code",
   "execution_count": 26,
   "metadata": {
    "scrolled": true
   },
   "outputs": [],
   "source": [
    "train_y_true = train_data.label_list\n",
    "train_y_pred = train_ans\n",
    "\n",
    "train_confusion_matrix = confusion_matrix(train_y_true, train_y_pred)\n",
    "tmp = numpy.empty((2,2), dtype=float)\n",
    "\n",
    "for i in range(2):\n",
    "    for j in range(2):\n",
    "        tmp[i][j] = float(train_confusion_matrix[i][j])/200\n",
    "train_confusion_matrix = tmp"
   ]
  },
  {
   "cell_type": "code",
   "execution_count": 27,
   "metadata": {},
   "outputs": [
    {
     "name": "stdout",
     "output_type": "stream",
     "text": [
      "precision:  0.375\n",
      "recall:  0.4545454545454546\n",
      "F1-Score:  0.4109589041095891\n"
     ]
    },
    {
     "data": {
      "image/png": "[encoded data removed]",
      "text/plain": [
       "<Figure size 432x288 with 2 Axes>"
      ]
     },
     "metadata": {},
     "output_type": "display_data"
    }
   ],
   "source": [
    "print_result(train_confusion_matrix, \"train Data\")"
   ]
  },
  {
   "cell_type": "markdown",
   "metadata": {},
   "source": [
    "## test data"
   ]
  },
  {
   "cell_type": "code",
   "execution_count": 28,
   "metadata": {},
   "outputs": [],
   "source": [
    "test_data_path  = \"..\\Case_Presentation_1_Data\\Test_Intuitive\\\\\"\n",
    "test_data  = dataloader(test_data_path)\n",
    "score=0\n",
    "test_ans = []\n",
    "\n",
    "for text in test_data.text_list:\n",
    "    for word in text:\n",
    "        if similar(model, word,  target_word)>gap:\n",
    "            score+=similar(model, word, target_word)\n",
    "    if score>standard:\n",
    "        test_ans.append(0)\n",
    "    else:\n",
    "        test_ans.append(1)\n",
    "    score=0"
   ]
  },
  {
   "cell_type": "code",
   "execution_count": 29,
   "metadata": {},
   "outputs": [],
   "source": [
    "test_y_true = test_data.label_list\n",
    "test_y_pred = test_ans\n",
    "\n",
    "test_confusion_matrix = confusion_matrix(test_y_true, test_y_pred)\n",
    "tmp = numpy.empty((2,2), dtype=float)\n",
    "\n",
    "for i in range(2):\n",
    "    for j in range(2):\n",
    "        tmp[i][j] = float(test_confusion_matrix[i][j])/200\n",
    "test_confusion_matrix = tmp"
   ]
  },
  {
   "cell_type": "code",
   "execution_count": 30,
   "metadata": {},
   "outputs": [
    {
     "name": "stdout",
     "output_type": "stream",
     "text": [
      "precision:  0.375\n",
      "recall:  0.4777070063694268\n",
      "F1-Score:  0.42016806722689076\n"
     ]
    },
    {
     "data": {
      "image/png": "[encoded data removed]",
      "text/plain": [
       "<Figure size 432x288 with 2 Axes>"
      ]
     },
     "metadata": {},
     "output_type": "display_data"
    }
   ],
   "source": [
    "print_result(test_confusion_matrix, \"test Data\")"
   ]
  },
  {
   "cell_type": "code",
   "execution_count": null,
   "metadata": {},
   "outputs": [],
   "source": []
  }
 ],
 "metadata": {
  "kernelspec": {
   "display_name": "Python 3",
   "language": "python",
   "name": "python3"
  },
  "language_info": {
   "codemirror_mode": {
    "name": "ipython",
    "version": 3
   },
   "file_extension": ".py",
   "mimetype": "text/x-python",
   "name": "python",
   "nbconvert_exporter": "python",
   "pygments_lexer": "ipython3",
   "version": "3.8.5"
  }
 },
 "nbformat": 4,
 "nbformat_minor": 4
}
